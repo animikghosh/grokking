{
 "cells": [
  {
   "cell_type": "markdown",
   "id": "10f5a554-f558-40aa-95d3-e869ef827f48",
   "metadata": {},
   "source": [
    "**Downloading the .pth files from wandb and saving into a single folder**"
   ]
  },
  {
   "cell_type": "code",
   "execution_count": 3,
   "id": "e2070655-4fec-488b-a82e-70d714d691c7",
   "metadata": {},
   "outputs": [
    {
     "name": "stdout",
     "output_type": "stream",
     "text": [
      "Fetching animikghosh-huzhou-university/grokking_replica/final-S5-model-weights-step-500:latest...\n"
     ]
    },
    {
     "name": "stderr",
     "output_type": "stream",
     "text": [
      "\u001b[34m\u001b[1mwandb\u001b[0m:   1 of 1 files downloaded.  \n"
     ]
    },
    {
     "name": "stdout",
     "output_type": "stream",
     "text": [
      "Downloaded and saved to S5_downloaded_weights(final version)/final-S5-model-weights-step-500.pth\n",
      "Fetching animikghosh-huzhou-university/grokking_replica/final-S5-model-weights-step-5500:latest...\n"
     ]
    },
    {
     "name": "stderr",
     "output_type": "stream",
     "text": [
      "\u001b[34m\u001b[1mwandb\u001b[0m:   1 of 1 files downloaded.  \n"
     ]
    },
    {
     "name": "stdout",
     "output_type": "stream",
     "text": [
      "Downloaded and saved to S5_downloaded_weights(final version)/final-S5-model-weights-step-5500.pth\n",
      "Fetching animikghosh-huzhou-university/grokking_replica/final-S5-model-weights-step-10500:latest...\n"
     ]
    },
    {
     "name": "stderr",
     "output_type": "stream",
     "text": [
      "\u001b[34m\u001b[1mwandb\u001b[0m:   1 of 1 files downloaded.  \n"
     ]
    },
    {
     "name": "stdout",
     "output_type": "stream",
     "text": [
      "Downloaded and saved to S5_downloaded_weights(final version)/final-S5-model-weights-step-10500.pth\n",
      "Fetching animikghosh-huzhou-university/grokking_replica/final-S5-model-weights-step-15500:latest...\n"
     ]
    },
    {
     "name": "stderr",
     "output_type": "stream",
     "text": [
      "\u001b[34m\u001b[1mwandb\u001b[0m:   1 of 1 files downloaded.  \n"
     ]
    },
    {
     "name": "stdout",
     "output_type": "stream",
     "text": [
      "Downloaded and saved to S5_downloaded_weights(final version)/final-S5-model-weights-step-15500.pth\n",
      "Fetching animikghosh-huzhou-university/grokking_replica/final-S5-model-weights-step-20500:latest...\n"
     ]
    },
    {
     "name": "stderr",
     "output_type": "stream",
     "text": [
      "\u001b[34m\u001b[1mwandb\u001b[0m:   1 of 1 files downloaded.  \n"
     ]
    },
    {
     "name": "stdout",
     "output_type": "stream",
     "text": [
      "Downloaded and saved to S5_downloaded_weights(final version)/final-S5-model-weights-step-20500.pth\n",
      "Fetching animikghosh-huzhou-university/grokking_replica/final-S5-model-weights-step-25500:latest...\n"
     ]
    },
    {
     "name": "stderr",
     "output_type": "stream",
     "text": [
      "\u001b[34m\u001b[1mwandb\u001b[0m:   1 of 1 files downloaded.  \n"
     ]
    },
    {
     "name": "stdout",
     "output_type": "stream",
     "text": [
      "Downloaded and saved to S5_downloaded_weights(final version)/final-S5-model-weights-step-25500.pth\n",
      "Fetching animikghosh-huzhou-university/grokking_replica/final-S5-model-weights-step-30500:latest...\n"
     ]
    },
    {
     "name": "stderr",
     "output_type": "stream",
     "text": [
      "\u001b[34m\u001b[1mwandb\u001b[0m:   1 of 1 files downloaded.  \n"
     ]
    },
    {
     "name": "stdout",
     "output_type": "stream",
     "text": [
      "Downloaded and saved to S5_downloaded_weights(final version)/final-S5-model-weights-step-30500.pth\n",
      "Fetching animikghosh-huzhou-university/grokking_replica/final-S5-model-weights-step-35500:latest...\n"
     ]
    },
    {
     "name": "stderr",
     "output_type": "stream",
     "text": [
      "\u001b[34m\u001b[1mwandb\u001b[0m:   1 of 1 files downloaded.  \n"
     ]
    },
    {
     "name": "stdout",
     "output_type": "stream",
     "text": [
      "Downloaded and saved to S5_downloaded_weights(final version)/final-S5-model-weights-step-35500.pth\n",
      "Fetching animikghosh-huzhou-university/grokking_replica/final-S5-model-weights-step-40500:latest...\n"
     ]
    },
    {
     "name": "stderr",
     "output_type": "stream",
     "text": [
      "\u001b[34m\u001b[1mwandb\u001b[0m:   1 of 1 files downloaded.  \n"
     ]
    },
    {
     "name": "stdout",
     "output_type": "stream",
     "text": [
      "Downloaded and saved to S5_downloaded_weights(final version)/final-S5-model-weights-step-40500.pth\n",
      "Fetching animikghosh-huzhou-university/grokking_replica/final-S5-model-weights-step-45500:latest...\n"
     ]
    },
    {
     "name": "stderr",
     "output_type": "stream",
     "text": [
      "\u001b[34m\u001b[1mwandb\u001b[0m:   1 of 1 files downloaded.  \n"
     ]
    },
    {
     "name": "stdout",
     "output_type": "stream",
     "text": [
      "Downloaded and saved to S5_downloaded_weights(final version)/final-S5-model-weights-step-45500.pth\n",
      "Fetching animikghosh-huzhou-university/grokking_replica/final-S5-model-weights-step-50500:latest...\n"
     ]
    },
    {
     "name": "stderr",
     "output_type": "stream",
     "text": [
      "\u001b[34m\u001b[1mwandb\u001b[0m:   1 of 1 files downloaded.  \n"
     ]
    },
    {
     "name": "stdout",
     "output_type": "stream",
     "text": [
      "Downloaded and saved to S5_downloaded_weights(final version)/final-S5-model-weights-step-50500.pth\n",
      "Fetching animikghosh-huzhou-university/grokking_replica/final-S5-model-weights-step-55500:latest...\n"
     ]
    },
    {
     "name": "stderr",
     "output_type": "stream",
     "text": [
      "\u001b[34m\u001b[1mwandb\u001b[0m:   1 of 1 files downloaded.  \n"
     ]
    },
    {
     "name": "stdout",
     "output_type": "stream",
     "text": [
      "Downloaded and saved to S5_downloaded_weights(final version)/final-S5-model-weights-step-55500.pth\n",
      "Fetching animikghosh-huzhou-university/grokking_replica/final-S5-model-weights-step-60500:latest...\n"
     ]
    },
    {
     "name": "stderr",
     "output_type": "stream",
     "text": [
      "\u001b[34m\u001b[1mwandb\u001b[0m:   1 of 1 files downloaded.  \n"
     ]
    },
    {
     "name": "stdout",
     "output_type": "stream",
     "text": [
      "Downloaded and saved to S5_downloaded_weights(final version)/final-S5-model-weights-step-60500.pth\n",
      "Fetching animikghosh-huzhou-university/grokking_replica/final-S5-model-weights-step-65500:latest...\n"
     ]
    },
    {
     "name": "stderr",
     "output_type": "stream",
     "text": [
      "\u001b[34m\u001b[1mwandb\u001b[0m:   1 of 1 files downloaded.  \n"
     ]
    },
    {
     "name": "stdout",
     "output_type": "stream",
     "text": [
      "Downloaded and saved to S5_downloaded_weights(final version)/final-S5-model-weights-step-65500.pth\n",
      "Fetching animikghosh-huzhou-university/grokking_replica/final-S5-model-weights-step-70500:latest...\n"
     ]
    },
    {
     "name": "stderr",
     "output_type": "stream",
     "text": [
      "\u001b[34m\u001b[1mwandb\u001b[0m:   1 of 1 files downloaded.  \n"
     ]
    },
    {
     "name": "stdout",
     "output_type": "stream",
     "text": [
      "Downloaded and saved to S5_downloaded_weights(final version)/final-S5-model-weights-step-70500.pth\n",
      "Fetching animikghosh-huzhou-university/grokking_replica/final-S5-model-weights-step-75500:latest...\n"
     ]
    },
    {
     "name": "stderr",
     "output_type": "stream",
     "text": [
      "\u001b[34m\u001b[1mwandb\u001b[0m:   1 of 1 files downloaded.  \n"
     ]
    },
    {
     "name": "stdout",
     "output_type": "stream",
     "text": [
      "Downloaded and saved to S5_downloaded_weights(final version)/final-S5-model-weights-step-75500.pth\n",
      "Fetching animikghosh-huzhou-university/grokking_replica/final-S5-model-weights-step-80500:latest...\n"
     ]
    },
    {
     "name": "stderr",
     "output_type": "stream",
     "text": [
      "\u001b[34m\u001b[1mwandb\u001b[0m:   1 of 1 files downloaded.  \n"
     ]
    },
    {
     "name": "stdout",
     "output_type": "stream",
     "text": [
      "Downloaded and saved to S5_downloaded_weights(final version)/final-S5-model-weights-step-80500.pth\n",
      "Fetching animikghosh-huzhou-university/grokking_replica/final-S5-model-weights-step-85500:latest...\n"
     ]
    },
    {
     "name": "stderr",
     "output_type": "stream",
     "text": [
      "\u001b[34m\u001b[1mwandb\u001b[0m:   1 of 1 files downloaded.  \n"
     ]
    },
    {
     "name": "stdout",
     "output_type": "stream",
     "text": [
      "Downloaded and saved to S5_downloaded_weights(final version)/final-S5-model-weights-step-85500.pth\n",
      "Fetching animikghosh-huzhou-university/grokking_replica/final-S5-model-weights-step-90500:latest...\n"
     ]
    },
    {
     "name": "stderr",
     "output_type": "stream",
     "text": [
      "\u001b[34m\u001b[1mwandb\u001b[0m:   1 of 1 files downloaded.  \n"
     ]
    },
    {
     "name": "stdout",
     "output_type": "stream",
     "text": [
      "Downloaded and saved to S5_downloaded_weights(final version)/final-S5-model-weights-step-90500.pth\n",
      "Fetching animikghosh-huzhou-university/grokking_replica/final-S5-model-weights-step-95500:latest...\n"
     ]
    },
    {
     "name": "stderr",
     "output_type": "stream",
     "text": [
      "\u001b[34m\u001b[1mwandb\u001b[0m:   1 of 1 files downloaded.  \n"
     ]
    },
    {
     "name": "stdout",
     "output_type": "stream",
     "text": [
      "Downloaded and saved to S5_downloaded_weights(final version)/final-S5-model-weights-step-95500.pth\n",
      "Fetching animikghosh-huzhou-university/grokking_replica/final-S5-model-weights-step-100500:latest...\n"
     ]
    },
    {
     "name": "stderr",
     "output_type": "stream",
     "text": [
      "\u001b[34m\u001b[1mwandb\u001b[0m:   1 of 1 files downloaded.  \n"
     ]
    },
    {
     "name": "stdout",
     "output_type": "stream",
     "text": [
      "Downloaded and saved to S5_downloaded_weights(final version)/final-S5-model-weights-step-100500.pth\n",
      "Fetching animikghosh-huzhou-university/grokking_replica/final-S5-model-weights-step-105500:latest...\n"
     ]
    },
    {
     "name": "stderr",
     "output_type": "stream",
     "text": [
      "\u001b[34m\u001b[1mwandb\u001b[0m:   1 of 1 files downloaded.  \n"
     ]
    },
    {
     "name": "stdout",
     "output_type": "stream",
     "text": [
      "Downloaded and saved to S5_downloaded_weights(final version)/final-S5-model-weights-step-105500.pth\n",
      "Fetching animikghosh-huzhou-university/grokking_replica/final-S5-model-weights-step-110500:latest...\n"
     ]
    },
    {
     "name": "stderr",
     "output_type": "stream",
     "text": [
      "\u001b[34m\u001b[1mwandb\u001b[0m:   1 of 1 files downloaded.  \n"
     ]
    },
    {
     "name": "stdout",
     "output_type": "stream",
     "text": [
      "Downloaded and saved to S5_downloaded_weights(final version)/final-S5-model-weights-step-110500.pth\n",
      "Fetching animikghosh-huzhou-university/grokking_replica/final-S5-model-weights-step-115500:latest...\n"
     ]
    },
    {
     "name": "stderr",
     "output_type": "stream",
     "text": [
      "\u001b[34m\u001b[1mwandb\u001b[0m:   1 of 1 files downloaded.  \n"
     ]
    },
    {
     "name": "stdout",
     "output_type": "stream",
     "text": [
      "Downloaded and saved to S5_downloaded_weights(final version)/final-S5-model-weights-step-115500.pth\n",
      "Fetching animikghosh-huzhou-university/grokking_replica/final-S5-model-weights-step-120500:latest...\n"
     ]
    },
    {
     "name": "stderr",
     "output_type": "stream",
     "text": [
      "\u001b[34m\u001b[1mwandb\u001b[0m:   1 of 1 files downloaded.  \n"
     ]
    },
    {
     "name": "stdout",
     "output_type": "stream",
     "text": [
      "Downloaded and saved to S5_downloaded_weights(final version)/final-S5-model-weights-step-120500.pth\n",
      "Fetching animikghosh-huzhou-university/grokking_replica/final-S5-model-weights-step-125500:latest...\n"
     ]
    },
    {
     "name": "stderr",
     "output_type": "stream",
     "text": [
      "\u001b[34m\u001b[1mwandb\u001b[0m:   1 of 1 files downloaded.  \n"
     ]
    },
    {
     "name": "stdout",
     "output_type": "stream",
     "text": [
      "Downloaded and saved to S5_downloaded_weights(final version)/final-S5-model-weights-step-125500.pth\n",
      "Fetching animikghosh-huzhou-university/grokking_replica/final-S5-model-weights-step-130500:latest...\n"
     ]
    },
    {
     "name": "stderr",
     "output_type": "stream",
     "text": [
      "\u001b[34m\u001b[1mwandb\u001b[0m:   1 of 1 files downloaded.  \n"
     ]
    },
    {
     "name": "stdout",
     "output_type": "stream",
     "text": [
      "Downloaded and saved to S5_downloaded_weights(final version)/final-S5-model-weights-step-130500.pth\n",
      "Fetching animikghosh-huzhou-university/grokking_replica/final-S5-model-weights-step-135500:latest...\n"
     ]
    },
    {
     "name": "stderr",
     "output_type": "stream",
     "text": [
      "\u001b[34m\u001b[1mwandb\u001b[0m:   1 of 1 files downloaded.  \n"
     ]
    },
    {
     "name": "stdout",
     "output_type": "stream",
     "text": [
      "Downloaded and saved to S5_downloaded_weights(final version)/final-S5-model-weights-step-135500.pth\n",
      "Fetching animikghosh-huzhou-university/grokking_replica/final-S5-model-weights-step-140500:latest...\n"
     ]
    },
    {
     "name": "stderr",
     "output_type": "stream",
     "text": [
      "\u001b[34m\u001b[1mwandb\u001b[0m:   1 of 1 files downloaded.  \n"
     ]
    },
    {
     "name": "stdout",
     "output_type": "stream",
     "text": [
      "Downloaded and saved to S5_downloaded_weights(final version)/final-S5-model-weights-step-140500.pth\n",
      "Fetching animikghosh-huzhou-university/grokking_replica/final-S5-model-weights-step-145500:latest...\n"
     ]
    },
    {
     "name": "stderr",
     "output_type": "stream",
     "text": [
      "\u001b[34m\u001b[1mwandb\u001b[0m:   1 of 1 files downloaded.  \n"
     ]
    },
    {
     "name": "stdout",
     "output_type": "stream",
     "text": [
      "Downloaded and saved to S5_downloaded_weights(final version)/final-S5-model-weights-step-145500.pth\n",
      "Fetching animikghosh-huzhou-university/grokking_replica/final-S5-model-weights-step-150500:latest...\n"
     ]
    },
    {
     "name": "stderr",
     "output_type": "stream",
     "text": [
      "\u001b[34m\u001b[1mwandb\u001b[0m:   1 of 1 files downloaded.  \n"
     ]
    },
    {
     "name": "stdout",
     "output_type": "stream",
     "text": [
      "Downloaded and saved to S5_downloaded_weights(final version)/final-S5-model-weights-step-150500.pth\n",
      "Fetching animikghosh-huzhou-university/grokking_replica/final-S5-model-weights-step-155500:latest...\n"
     ]
    },
    {
     "name": "stderr",
     "output_type": "stream",
     "text": [
      "\u001b[34m\u001b[1mwandb\u001b[0m:   1 of 1 files downloaded.  \n"
     ]
    },
    {
     "name": "stdout",
     "output_type": "stream",
     "text": [
      "Downloaded and saved to S5_downloaded_weights(final version)/final-S5-model-weights-step-155500.pth\n",
      "Fetching animikghosh-huzhou-university/grokking_replica/final-S5-model-weights-step-160500:latest...\n"
     ]
    },
    {
     "name": "stderr",
     "output_type": "stream",
     "text": [
      "\u001b[34m\u001b[1mwandb\u001b[0m:   1 of 1 files downloaded.  \n"
     ]
    },
    {
     "name": "stdout",
     "output_type": "stream",
     "text": [
      "Downloaded and saved to S5_downloaded_weights(final version)/final-S5-model-weights-step-160500.pth\n",
      "Fetching animikghosh-huzhou-university/grokking_replica/final-S5-model-weights-step-165500:latest...\n"
     ]
    },
    {
     "name": "stderr",
     "output_type": "stream",
     "text": [
      "\u001b[34m\u001b[1mwandb\u001b[0m:   1 of 1 files downloaded.  \n"
     ]
    },
    {
     "name": "stdout",
     "output_type": "stream",
     "text": [
      "Downloaded and saved to S5_downloaded_weights(final version)/final-S5-model-weights-step-165500.pth\n",
      "Fetching animikghosh-huzhou-university/grokking_replica/final-S5-model-weights-step-170500:latest...\n"
     ]
    },
    {
     "name": "stderr",
     "output_type": "stream",
     "text": [
      "\u001b[34m\u001b[1mwandb\u001b[0m:   1 of 1 files downloaded.  \n"
     ]
    },
    {
     "name": "stdout",
     "output_type": "stream",
     "text": [
      "Downloaded and saved to S5_downloaded_weights(final version)/final-S5-model-weights-step-170500.pth\n",
      "Fetching animikghosh-huzhou-university/grokking_replica/final-S5-model-weights-step-175500:latest...\n"
     ]
    },
    {
     "name": "stderr",
     "output_type": "stream",
     "text": [
      "\u001b[34m\u001b[1mwandb\u001b[0m:   1 of 1 files downloaded.  \n"
     ]
    },
    {
     "name": "stdout",
     "output_type": "stream",
     "text": [
      "Downloaded and saved to S5_downloaded_weights(final version)/final-S5-model-weights-step-175500.pth\n",
      "Fetching animikghosh-huzhou-university/grokking_replica/final-S5-model-weights-step-180500:latest...\n"
     ]
    },
    {
     "name": "stderr",
     "output_type": "stream",
     "text": [
      "\u001b[34m\u001b[1mwandb\u001b[0m:   1 of 1 files downloaded.  \n"
     ]
    },
    {
     "name": "stdout",
     "output_type": "stream",
     "text": [
      "Downloaded and saved to S5_downloaded_weights(final version)/final-S5-model-weights-step-180500.pth\n",
      "Fetching animikghosh-huzhou-university/grokking_replica/final-S5-model-weights-step-185500:latest...\n"
     ]
    },
    {
     "name": "stderr",
     "output_type": "stream",
     "text": [
      "\u001b[34m\u001b[1mwandb\u001b[0m:   1 of 1 files downloaded.  \n"
     ]
    },
    {
     "name": "stdout",
     "output_type": "stream",
     "text": [
      "Downloaded and saved to S5_downloaded_weights(final version)/final-S5-model-weights-step-185500.pth\n",
      "Fetching animikghosh-huzhou-university/grokking_replica/final-S5-model-weights-step-190500:latest...\n"
     ]
    },
    {
     "name": "stderr",
     "output_type": "stream",
     "text": [
      "\u001b[34m\u001b[1mwandb\u001b[0m:   1 of 1 files downloaded.  \n"
     ]
    },
    {
     "name": "stdout",
     "output_type": "stream",
     "text": [
      "Downloaded and saved to S5_downloaded_weights(final version)/final-S5-model-weights-step-190500.pth\n",
      "Fetching animikghosh-huzhou-university/grokking_replica/final-S5-model-weights-step-195500:latest...\n"
     ]
    },
    {
     "name": "stderr",
     "output_type": "stream",
     "text": [
      "\u001b[34m\u001b[1mwandb\u001b[0m:   1 of 1 files downloaded.  \n"
     ]
    },
    {
     "name": "stdout",
     "output_type": "stream",
     "text": [
      "Downloaded and saved to S5_downloaded_weights(final version)/final-S5-model-weights-step-195500.pth\n",
      "Fetching animikghosh-huzhou-university/grokking_replica/final-S5-model-weights-step-200500:latest...\n"
     ]
    },
    {
     "name": "stderr",
     "output_type": "stream",
     "text": [
      "\u001b[34m\u001b[1mwandb\u001b[0m:   1 of 1 files downloaded.  \n"
     ]
    },
    {
     "name": "stdout",
     "output_type": "stream",
     "text": [
      "Downloaded and saved to S5_downloaded_weights(final version)/final-S5-model-weights-step-200500.pth\n",
      "Fetching animikghosh-huzhou-university/grokking_replica/final-S5-model-weights-step-205500:latest...\n"
     ]
    },
    {
     "name": "stderr",
     "output_type": "stream",
     "text": [
      "\u001b[34m\u001b[1mwandb\u001b[0m:   1 of 1 files downloaded.  \n"
     ]
    },
    {
     "name": "stdout",
     "output_type": "stream",
     "text": [
      "Downloaded and saved to S5_downloaded_weights(final version)/final-S5-model-weights-step-205500.pth\n",
      "Fetching animikghosh-huzhou-university/grokking_replica/final-S5-model-weights-step-210500:latest...\n"
     ]
    },
    {
     "name": "stderr",
     "output_type": "stream",
     "text": [
      "\u001b[34m\u001b[1mwandb\u001b[0m:   1 of 1 files downloaded.  \n"
     ]
    },
    {
     "name": "stdout",
     "output_type": "stream",
     "text": [
      "Downloaded and saved to S5_downloaded_weights(final version)/final-S5-model-weights-step-210500.pth\n",
      "Fetching animikghosh-huzhou-university/grokking_replica/final-S5-model-weights-step-215500:latest...\n"
     ]
    },
    {
     "name": "stderr",
     "output_type": "stream",
     "text": [
      "\u001b[34m\u001b[1mwandb\u001b[0m:   1 of 1 files downloaded.  \n"
     ]
    },
    {
     "name": "stdout",
     "output_type": "stream",
     "text": [
      "Downloaded and saved to S5_downloaded_weights(final version)/final-S5-model-weights-step-215500.pth\n",
      "Fetching animikghosh-huzhou-university/grokking_replica/final-S5-model-weights-step-220500:latest...\n"
     ]
    },
    {
     "name": "stderr",
     "output_type": "stream",
     "text": [
      "\u001b[34m\u001b[1mwandb\u001b[0m:   1 of 1 files downloaded.  \n"
     ]
    },
    {
     "name": "stdout",
     "output_type": "stream",
     "text": [
      "Downloaded and saved to S5_downloaded_weights(final version)/final-S5-model-weights-step-220500.pth\n",
      "Fetching animikghosh-huzhou-university/grokking_replica/final-S5-model-weights-step-225500:latest...\n"
     ]
    },
    {
     "name": "stderr",
     "output_type": "stream",
     "text": [
      "\u001b[34m\u001b[1mwandb\u001b[0m:   1 of 1 files downloaded.  \n"
     ]
    },
    {
     "name": "stdout",
     "output_type": "stream",
     "text": [
      "Downloaded and saved to S5_downloaded_weights(final version)/final-S5-model-weights-step-225500.pth\n",
      "Fetching animikghosh-huzhou-university/grokking_replica/final-S5-model-weights-step-230500:latest...\n"
     ]
    },
    {
     "name": "stderr",
     "output_type": "stream",
     "text": [
      "\u001b[34m\u001b[1mwandb\u001b[0m:   1 of 1 files downloaded.  \n"
     ]
    },
    {
     "name": "stdout",
     "output_type": "stream",
     "text": [
      "Downloaded and saved to S5_downloaded_weights(final version)/final-S5-model-weights-step-230500.pth\n",
      "Fetching animikghosh-huzhou-university/grokking_replica/final-S5-model-weights-step-235500:latest...\n"
     ]
    },
    {
     "name": "stderr",
     "output_type": "stream",
     "text": [
      "\u001b[34m\u001b[1mwandb\u001b[0m:   1 of 1 files downloaded.  \n"
     ]
    },
    {
     "name": "stdout",
     "output_type": "stream",
     "text": [
      "Downloaded and saved to S5_downloaded_weights(final version)/final-S5-model-weights-step-235500.pth\n",
      "Fetching animikghosh-huzhou-university/grokking_replica/final-S5-model-weights-step-240500:latest...\n"
     ]
    },
    {
     "name": "stderr",
     "output_type": "stream",
     "text": [
      "\u001b[34m\u001b[1mwandb\u001b[0m:   1 of 1 files downloaded.  \n"
     ]
    },
    {
     "name": "stdout",
     "output_type": "stream",
     "text": [
      "Downloaded and saved to S5_downloaded_weights(final version)/final-S5-model-weights-step-240500.pth\n",
      "Fetching animikghosh-huzhou-university/grokking_replica/final-S5-model-weights-step-245500:latest...\n"
     ]
    },
    {
     "name": "stderr",
     "output_type": "stream",
     "text": [
      "\u001b[34m\u001b[1mwandb\u001b[0m:   1 of 1 files downloaded.  \n"
     ]
    },
    {
     "name": "stdout",
     "output_type": "stream",
     "text": [
      "Downloaded and saved to S5_downloaded_weights(final version)/final-S5-model-weights-step-245500.pth\n",
      "Fetching animikghosh-huzhou-university/grokking_replica/final-S5-model-weights-step-250500:latest...\n"
     ]
    },
    {
     "name": "stderr",
     "output_type": "stream",
     "text": [
      "\u001b[34m\u001b[1mwandb\u001b[0m:   1 of 1 files downloaded.  \n"
     ]
    },
    {
     "name": "stdout",
     "output_type": "stream",
     "text": [
      "Downloaded and saved to S5_downloaded_weights(final version)/final-S5-model-weights-step-250500.pth\n",
      "Fetching animikghosh-huzhou-university/grokking_replica/final-S5-model-weights-step-255500:latest...\n"
     ]
    },
    {
     "name": "stderr",
     "output_type": "stream",
     "text": [
      "\u001b[34m\u001b[1mwandb\u001b[0m:   1 of 1 files downloaded.  \n"
     ]
    },
    {
     "name": "stdout",
     "output_type": "stream",
     "text": [
      "Downloaded and saved to S5_downloaded_weights(final version)/final-S5-model-weights-step-255500.pth\n",
      "Fetching animikghosh-huzhou-university/grokking_replica/final-S5-model-weights-step-260500:latest...\n"
     ]
    },
    {
     "name": "stderr",
     "output_type": "stream",
     "text": [
      "\u001b[34m\u001b[1mwandb\u001b[0m:   1 of 1 files downloaded.  \n"
     ]
    },
    {
     "name": "stdout",
     "output_type": "stream",
     "text": [
      "Downloaded and saved to S5_downloaded_weights(final version)/final-S5-model-weights-step-260500.pth\n",
      "Fetching animikghosh-huzhou-university/grokking_replica/final-S5-model-weights-step-265500:latest...\n"
     ]
    },
    {
     "name": "stderr",
     "output_type": "stream",
     "text": [
      "\u001b[34m\u001b[1mwandb\u001b[0m:   1 of 1 files downloaded.  \n"
     ]
    },
    {
     "name": "stdout",
     "output_type": "stream",
     "text": [
      "Downloaded and saved to S5_downloaded_weights(final version)/final-S5-model-weights-step-265500.pth\n",
      "Fetching animikghosh-huzhou-university/grokking_replica/final-S5-model-weights-step-270500:latest...\n"
     ]
    },
    {
     "name": "stderr",
     "output_type": "stream",
     "text": [
      "\u001b[34m\u001b[1mwandb\u001b[0m:   1 of 1 files downloaded.  \n"
     ]
    },
    {
     "name": "stdout",
     "output_type": "stream",
     "text": [
      "Downloaded and saved to S5_downloaded_weights(final version)/final-S5-model-weights-step-270500.pth\n",
      "Fetching animikghosh-huzhou-university/grokking_replica/final-S5-model-weights-step-275500:latest...\n"
     ]
    },
    {
     "name": "stderr",
     "output_type": "stream",
     "text": [
      "\u001b[34m\u001b[1mwandb\u001b[0m:   1 of 1 files downloaded.  \n"
     ]
    },
    {
     "name": "stdout",
     "output_type": "stream",
     "text": [
      "Downloaded and saved to S5_downloaded_weights(final version)/final-S5-model-weights-step-275500.pth\n",
      "Fetching animikghosh-huzhou-university/grokking_replica/final-S5-model-weights-step-280500:latest...\n"
     ]
    },
    {
     "name": "stderr",
     "output_type": "stream",
     "text": [
      "\u001b[34m\u001b[1mwandb\u001b[0m:   1 of 1 files downloaded.  \n"
     ]
    },
    {
     "name": "stdout",
     "output_type": "stream",
     "text": [
      "Downloaded and saved to S5_downloaded_weights(final version)/final-S5-model-weights-step-280500.pth\n",
      "Fetching animikghosh-huzhou-university/grokking_replica/final-S5-model-weights-step-285500:latest...\n"
     ]
    },
    {
     "name": "stderr",
     "output_type": "stream",
     "text": [
      "\u001b[34m\u001b[1mwandb\u001b[0m:   1 of 1 files downloaded.  \n"
     ]
    },
    {
     "name": "stdout",
     "output_type": "stream",
     "text": [
      "Downloaded and saved to S5_downloaded_weights(final version)/final-S5-model-weights-step-285500.pth\n",
      "Fetching animikghosh-huzhou-university/grokking_replica/final-S5-model-weights-step-290500:latest...\n"
     ]
    },
    {
     "name": "stderr",
     "output_type": "stream",
     "text": [
      "\u001b[34m\u001b[1mwandb\u001b[0m:   1 of 1 files downloaded.  \n"
     ]
    },
    {
     "name": "stdout",
     "output_type": "stream",
     "text": [
      "Downloaded and saved to S5_downloaded_weights(final version)/final-S5-model-weights-step-290500.pth\n",
      "Fetching animikghosh-huzhou-university/grokking_replica/final-S5-model-weights-step-295500:latest...\n"
     ]
    },
    {
     "name": "stderr",
     "output_type": "stream",
     "text": [
      "\u001b[34m\u001b[1mwandb\u001b[0m:   1 of 1 files downloaded.  \n"
     ]
    },
    {
     "name": "stdout",
     "output_type": "stream",
     "text": [
      "Downloaded and saved to S5_downloaded_weights(final version)/final-S5-model-weights-step-295500.pth\n",
      "Fetching animikghosh-huzhou-university/grokking_replica/final-S5-model-weights-step-300500:latest...\n"
     ]
    },
    {
     "name": "stderr",
     "output_type": "stream",
     "text": [
      "\u001b[34m\u001b[1mwandb\u001b[0m:   1 of 1 files downloaded.  \n"
     ]
    },
    {
     "name": "stdout",
     "output_type": "stream",
     "text": [
      "Downloaded and saved to S5_downloaded_weights(final version)/final-S5-model-weights-step-300500.pth\n",
      "Fetching animikghosh-huzhou-university/grokking_replica/final-S5-model-weights-step-305500:latest...\n"
     ]
    },
    {
     "name": "stderr",
     "output_type": "stream",
     "text": [
      "\u001b[34m\u001b[1mwandb\u001b[0m:   1 of 1 files downloaded.  \n"
     ]
    },
    {
     "name": "stdout",
     "output_type": "stream",
     "text": [
      "Downloaded and saved to S5_downloaded_weights(final version)/final-S5-model-weights-step-305500.pth\n",
      "Fetching animikghosh-huzhou-university/grokking_replica/final-S5-model-weights-step-310500:latest...\n"
     ]
    },
    {
     "name": "stderr",
     "output_type": "stream",
     "text": [
      "\u001b[34m\u001b[1mwandb\u001b[0m:   1 of 1 files downloaded.  \n"
     ]
    },
    {
     "name": "stdout",
     "output_type": "stream",
     "text": [
      "Downloaded and saved to S5_downloaded_weights(final version)/final-S5-model-weights-step-310500.pth\n",
      "Fetching animikghosh-huzhou-university/grokking_replica/final-S5-model-weights-step-315500:latest...\n"
     ]
    },
    {
     "name": "stderr",
     "output_type": "stream",
     "text": [
      "\u001b[34m\u001b[1mwandb\u001b[0m:   1 of 1 files downloaded.  \n"
     ]
    },
    {
     "name": "stdout",
     "output_type": "stream",
     "text": [
      "Downloaded and saved to S5_downloaded_weights(final version)/final-S5-model-weights-step-315500.pth\n",
      "Fetching animikghosh-huzhou-university/grokking_replica/final-S5-model-weights-step-320500:latest...\n"
     ]
    },
    {
     "name": "stderr",
     "output_type": "stream",
     "text": [
      "\u001b[34m\u001b[1mwandb\u001b[0m:   1 of 1 files downloaded.  \n"
     ]
    },
    {
     "name": "stdout",
     "output_type": "stream",
     "text": [
      "Downloaded and saved to S5_downloaded_weights(final version)/final-S5-model-weights-step-320500.pth\n",
      "Fetching animikghosh-huzhou-university/grokking_replica/final-S5-model-weights-step-325500:latest...\n"
     ]
    },
    {
     "name": "stderr",
     "output_type": "stream",
     "text": [
      "\u001b[34m\u001b[1mwandb\u001b[0m:   1 of 1 files downloaded.  \n"
     ]
    },
    {
     "name": "stdout",
     "output_type": "stream",
     "text": [
      "Downloaded and saved to S5_downloaded_weights(final version)/final-S5-model-weights-step-325500.pth\n",
      "Fetching animikghosh-huzhou-university/grokking_replica/final-S5-model-weights-step-330500:latest...\n"
     ]
    },
    {
     "name": "stderr",
     "output_type": "stream",
     "text": [
      "\u001b[34m\u001b[1mwandb\u001b[0m:   1 of 1 files downloaded.  \n"
     ]
    },
    {
     "name": "stdout",
     "output_type": "stream",
     "text": [
      "Downloaded and saved to S5_downloaded_weights(final version)/final-S5-model-weights-step-330500.pth\n",
      "Fetching animikghosh-huzhou-university/grokking_replica/final-S5-model-weights-step-335500:latest...\n"
     ]
    },
    {
     "name": "stderr",
     "output_type": "stream",
     "text": [
      "\u001b[34m\u001b[1mwandb\u001b[0m:   1 of 1 files downloaded.  \n"
     ]
    },
    {
     "name": "stdout",
     "output_type": "stream",
     "text": [
      "Downloaded and saved to S5_downloaded_weights(final version)/final-S5-model-weights-step-335500.pth\n",
      "Fetching animikghosh-huzhou-university/grokking_replica/final-S5-model-weights-step-340500:latest...\n"
     ]
    },
    {
     "name": "stderr",
     "output_type": "stream",
     "text": [
      "\u001b[34m\u001b[1mwandb\u001b[0m:   1 of 1 files downloaded.  \n"
     ]
    },
    {
     "name": "stdout",
     "output_type": "stream",
     "text": [
      "Downloaded and saved to S5_downloaded_weights(final version)/final-S5-model-weights-step-340500.pth\n",
      "Fetching animikghosh-huzhou-university/grokking_replica/final-S5-model-weights-step-345500:latest...\n"
     ]
    },
    {
     "name": "stderr",
     "output_type": "stream",
     "text": [
      "\u001b[34m\u001b[1mwandb\u001b[0m:   1 of 1 files downloaded.  \n"
     ]
    },
    {
     "name": "stdout",
     "output_type": "stream",
     "text": [
      "Downloaded and saved to S5_downloaded_weights(final version)/final-S5-model-weights-step-345500.pth\n",
      "Fetching animikghosh-huzhou-university/grokking_replica/final-S5-model-weights-step-350500:latest...\n"
     ]
    },
    {
     "name": "stderr",
     "output_type": "stream",
     "text": [
      "\u001b[34m\u001b[1mwandb\u001b[0m:   1 of 1 files downloaded.  \n"
     ]
    },
    {
     "name": "stdout",
     "output_type": "stream",
     "text": [
      "Downloaded and saved to S5_downloaded_weights(final version)/final-S5-model-weights-step-350500.pth\n",
      "Fetching animikghosh-huzhou-university/grokking_replica/final-S5-model-weights-step-355500:latest...\n"
     ]
    },
    {
     "name": "stderr",
     "output_type": "stream",
     "text": [
      "\u001b[34m\u001b[1mwandb\u001b[0m:   1 of 1 files downloaded.  \n"
     ]
    },
    {
     "name": "stdout",
     "output_type": "stream",
     "text": [
      "Downloaded and saved to S5_downloaded_weights(final version)/final-S5-model-weights-step-355500.pth\n",
      "Fetching animikghosh-huzhou-university/grokking_replica/final-S5-model-weights-step-360500:latest...\n"
     ]
    },
    {
     "name": "stderr",
     "output_type": "stream",
     "text": [
      "\u001b[34m\u001b[1mwandb\u001b[0m:   1 of 1 files downloaded.  \n"
     ]
    },
    {
     "name": "stdout",
     "output_type": "stream",
     "text": [
      "Downloaded and saved to S5_downloaded_weights(final version)/final-S5-model-weights-step-360500.pth\n",
      "Fetching animikghosh-huzhou-university/grokking_replica/final-S5-model-weights-step-365500:latest...\n"
     ]
    },
    {
     "name": "stderr",
     "output_type": "stream",
     "text": [
      "\u001b[34m\u001b[1mwandb\u001b[0m:   1 of 1 files downloaded.  \n"
     ]
    },
    {
     "name": "stdout",
     "output_type": "stream",
     "text": [
      "Downloaded and saved to S5_downloaded_weights(final version)/final-S5-model-weights-step-365500.pth\n",
      "Fetching animikghosh-huzhou-university/grokking_replica/final-S5-model-weights-step-370500:latest...\n"
     ]
    },
    {
     "name": "stderr",
     "output_type": "stream",
     "text": [
      "\u001b[34m\u001b[1mwandb\u001b[0m:   1 of 1 files downloaded.  \n"
     ]
    },
    {
     "name": "stdout",
     "output_type": "stream",
     "text": [
      "Downloaded and saved to S5_downloaded_weights(final version)/final-S5-model-weights-step-370500.pth\n",
      "Fetching animikghosh-huzhou-university/grokking_replica/final-S5-model-weights-step-375500:latest...\n"
     ]
    },
    {
     "name": "stderr",
     "output_type": "stream",
     "text": [
      "\u001b[34m\u001b[1mwandb\u001b[0m:   1 of 1 files downloaded.  \n"
     ]
    },
    {
     "name": "stdout",
     "output_type": "stream",
     "text": [
      "Downloaded and saved to S5_downloaded_weights(final version)/final-S5-model-weights-step-375500.pth\n",
      "Fetching animikghosh-huzhou-university/grokking_replica/final-S5-model-weights-step-380500:latest...\n"
     ]
    },
    {
     "name": "stderr",
     "output_type": "stream",
     "text": [
      "\u001b[34m\u001b[1mwandb\u001b[0m:   1 of 1 files downloaded.  \n"
     ]
    },
    {
     "name": "stdout",
     "output_type": "stream",
     "text": [
      "Downloaded and saved to S5_downloaded_weights(final version)/final-S5-model-weights-step-380500.pth\n",
      "Fetching animikghosh-huzhou-university/grokking_replica/final-S5-model-weights-step-385500:latest...\n"
     ]
    },
    {
     "name": "stderr",
     "output_type": "stream",
     "text": [
      "\u001b[34m\u001b[1mwandb\u001b[0m:   1 of 1 files downloaded.  \n"
     ]
    },
    {
     "name": "stdout",
     "output_type": "stream",
     "text": [
      "Downloaded and saved to S5_downloaded_weights(final version)/final-S5-model-weights-step-385500.pth\n",
      "Fetching animikghosh-huzhou-university/grokking_replica/final-S5-model-weights-step-390500:latest...\n"
     ]
    },
    {
     "name": "stderr",
     "output_type": "stream",
     "text": [
      "\u001b[34m\u001b[1mwandb\u001b[0m:   1 of 1 files downloaded.  \n"
     ]
    },
    {
     "name": "stdout",
     "output_type": "stream",
     "text": [
      "Downloaded and saved to S5_downloaded_weights(final version)/final-S5-model-weights-step-390500.pth\n",
      "Fetching animikghosh-huzhou-university/grokking_replica/final-S5-model-weights-step-395500:latest...\n"
     ]
    },
    {
     "name": "stderr",
     "output_type": "stream",
     "text": [
      "\u001b[34m\u001b[1mwandb\u001b[0m:   1 of 1 files downloaded.  \n"
     ]
    },
    {
     "name": "stdout",
     "output_type": "stream",
     "text": [
      "Downloaded and saved to S5_downloaded_weights(final version)/final-S5-model-weights-step-395500.pth\n",
      "Fetching animikghosh-huzhou-university/grokking_replica/final-S5-model-weights-step-400500:latest...\n"
     ]
    },
    {
     "name": "stderr",
     "output_type": "stream",
     "text": [
      "\u001b[34m\u001b[1mwandb\u001b[0m:   1 of 1 files downloaded.  \n"
     ]
    },
    {
     "name": "stdout",
     "output_type": "stream",
     "text": [
      "Downloaded and saved to S5_downloaded_weights(final version)/final-S5-model-weights-step-400500.pth\n",
      "Fetching animikghosh-huzhou-university/grokking_replica/final-S5-model-weights-step-405500:latest...\n"
     ]
    },
    {
     "name": "stderr",
     "output_type": "stream",
     "text": [
      "\u001b[34m\u001b[1mwandb\u001b[0m:   1 of 1 files downloaded.  \n"
     ]
    },
    {
     "name": "stdout",
     "output_type": "stream",
     "text": [
      "Downloaded and saved to S5_downloaded_weights(final version)/final-S5-model-weights-step-405500.pth\n",
      "Fetching animikghosh-huzhou-university/grokking_replica/final-S5-model-weights-step-410500:latest...\n"
     ]
    },
    {
     "name": "stderr",
     "output_type": "stream",
     "text": [
      "\u001b[34m\u001b[1mwandb\u001b[0m:   1 of 1 files downloaded.  \n"
     ]
    },
    {
     "name": "stdout",
     "output_type": "stream",
     "text": [
      "Downloaded and saved to S5_downloaded_weights(final version)/final-S5-model-weights-step-410500.pth\n",
      "Fetching animikghosh-huzhou-university/grokking_replica/final-S5-model-weights-step-415500:latest...\n"
     ]
    },
    {
     "name": "stderr",
     "output_type": "stream",
     "text": [
      "\u001b[34m\u001b[1mwandb\u001b[0m:   1 of 1 files downloaded.  \n"
     ]
    },
    {
     "name": "stdout",
     "output_type": "stream",
     "text": [
      "Downloaded and saved to S5_downloaded_weights(final version)/final-S5-model-weights-step-415500.pth\n",
      "Fetching animikghosh-huzhou-university/grokking_replica/final-S5-model-weights-step-420500:latest...\n"
     ]
    },
    {
     "name": "stderr",
     "output_type": "stream",
     "text": [
      "\u001b[34m\u001b[1mwandb\u001b[0m:   1 of 1 files downloaded.  \n"
     ]
    },
    {
     "name": "stdout",
     "output_type": "stream",
     "text": [
      "Downloaded and saved to S5_downloaded_weights(final version)/final-S5-model-weights-step-420500.pth\n",
      "Fetching animikghosh-huzhou-university/grokking_replica/final-S5-model-weights-step-425500:latest...\n"
     ]
    },
    {
     "name": "stderr",
     "output_type": "stream",
     "text": [
      "\u001b[34m\u001b[1mwandb\u001b[0m:   1 of 1 files downloaded.  \n"
     ]
    },
    {
     "name": "stdout",
     "output_type": "stream",
     "text": [
      "Downloaded and saved to S5_downloaded_weights(final version)/final-S5-model-weights-step-425500.pth\n",
      "Fetching animikghosh-huzhou-university/grokking_replica/final-S5-model-weights-step-430500:latest...\n"
     ]
    },
    {
     "name": "stderr",
     "output_type": "stream",
     "text": [
      "\u001b[34m\u001b[1mwandb\u001b[0m:   1 of 1 files downloaded.  \n"
     ]
    },
    {
     "name": "stdout",
     "output_type": "stream",
     "text": [
      "Downloaded and saved to S5_downloaded_weights(final version)/final-S5-model-weights-step-430500.pth\n",
      "Fetching animikghosh-huzhou-university/grokking_replica/final-S5-model-weights-step-435500:latest...\n"
     ]
    },
    {
     "name": "stderr",
     "output_type": "stream",
     "text": [
      "\u001b[34m\u001b[1mwandb\u001b[0m:   1 of 1 files downloaded.  \n"
     ]
    },
    {
     "name": "stdout",
     "output_type": "stream",
     "text": [
      "Downloaded and saved to S5_downloaded_weights(final version)/final-S5-model-weights-step-435500.pth\n",
      "Fetching animikghosh-huzhou-university/grokking_replica/final-S5-model-weights-step-440500:latest...\n"
     ]
    },
    {
     "name": "stderr",
     "output_type": "stream",
     "text": [
      "\u001b[34m\u001b[1mwandb\u001b[0m:   1 of 1 files downloaded.  \n"
     ]
    },
    {
     "name": "stdout",
     "output_type": "stream",
     "text": [
      "Downloaded and saved to S5_downloaded_weights(final version)/final-S5-model-weights-step-440500.pth\n",
      "Fetching animikghosh-huzhou-university/grokking_replica/final-S5-model-weights-step-445500:latest...\n"
     ]
    },
    {
     "name": "stderr",
     "output_type": "stream",
     "text": [
      "\u001b[34m\u001b[1mwandb\u001b[0m:   1 of 1 files downloaded.  \n"
     ]
    },
    {
     "name": "stdout",
     "output_type": "stream",
     "text": [
      "Downloaded and saved to S5_downloaded_weights(final version)/final-S5-model-weights-step-445500.pth\n",
      "Fetching animikghosh-huzhou-university/grokking_replica/final-S5-model-weights-step-450500:latest...\n"
     ]
    },
    {
     "name": "stderr",
     "output_type": "stream",
     "text": [
      "\u001b[34m\u001b[1mwandb\u001b[0m:   1 of 1 files downloaded.  \n"
     ]
    },
    {
     "name": "stdout",
     "output_type": "stream",
     "text": [
      "Downloaded and saved to S5_downloaded_weights(final version)/final-S5-model-weights-step-450500.pth\n",
      "Fetching animikghosh-huzhou-university/grokking_replica/final-S5-model-weights-step-455500:latest...\n"
     ]
    },
    {
     "name": "stderr",
     "output_type": "stream",
     "text": [
      "\u001b[34m\u001b[1mwandb\u001b[0m:   1 of 1 files downloaded.  \n"
     ]
    },
    {
     "name": "stdout",
     "output_type": "stream",
     "text": [
      "Downloaded and saved to S5_downloaded_weights(final version)/final-S5-model-weights-step-455500.pth\n",
      "Fetching animikghosh-huzhou-university/grokking_replica/final-S5-model-weights-step-460500:latest...\n"
     ]
    },
    {
     "name": "stderr",
     "output_type": "stream",
     "text": [
      "\u001b[34m\u001b[1mwandb\u001b[0m:   1 of 1 files downloaded.  \n"
     ]
    },
    {
     "name": "stdout",
     "output_type": "stream",
     "text": [
      "Downloaded and saved to S5_downloaded_weights(final version)/final-S5-model-weights-step-460500.pth\n",
      "Fetching animikghosh-huzhou-university/grokking_replica/final-S5-model-weights-step-465500:latest...\n"
     ]
    },
    {
     "name": "stderr",
     "output_type": "stream",
     "text": [
      "\u001b[34m\u001b[1mwandb\u001b[0m:   1 of 1 files downloaded.  \n"
     ]
    },
    {
     "name": "stdout",
     "output_type": "stream",
     "text": [
      "Downloaded and saved to S5_downloaded_weights(final version)/final-S5-model-weights-step-465500.pth\n",
      "Fetching animikghosh-huzhou-university/grokking_replica/final-S5-model-weights-step-470500:latest...\n"
     ]
    },
    {
     "name": "stderr",
     "output_type": "stream",
     "text": [
      "\u001b[34m\u001b[1mwandb\u001b[0m:   1 of 1 files downloaded.  \n"
     ]
    },
    {
     "name": "stdout",
     "output_type": "stream",
     "text": [
      "Downloaded and saved to S5_downloaded_weights(final version)/final-S5-model-weights-step-470500.pth\n",
      "Fetching animikghosh-huzhou-university/grokking_replica/final-S5-model-weights-step-475500:latest...\n"
     ]
    },
    {
     "name": "stderr",
     "output_type": "stream",
     "text": [
      "\u001b[34m\u001b[1mwandb\u001b[0m:   1 of 1 files downloaded.  \n"
     ]
    },
    {
     "name": "stdout",
     "output_type": "stream",
     "text": [
      "Downloaded and saved to S5_downloaded_weights(final version)/final-S5-model-weights-step-475500.pth\n",
      "Fetching animikghosh-huzhou-university/grokking_replica/final-S5-model-weights-step-480500:latest...\n"
     ]
    },
    {
     "name": "stderr",
     "output_type": "stream",
     "text": [
      "\u001b[34m\u001b[1mwandb\u001b[0m:   1 of 1 files downloaded.  \n"
     ]
    },
    {
     "name": "stdout",
     "output_type": "stream",
     "text": [
      "Downloaded and saved to S5_downloaded_weights(final version)/final-S5-model-weights-step-480500.pth\n",
      "Fetching animikghosh-huzhou-university/grokking_replica/final-S5-model-weights-step-485500:latest...\n"
     ]
    },
    {
     "name": "stderr",
     "output_type": "stream",
     "text": [
      "\u001b[34m\u001b[1mwandb\u001b[0m:   1 of 1 files downloaded.  \n"
     ]
    },
    {
     "name": "stdout",
     "output_type": "stream",
     "text": [
      "Downloaded and saved to S5_downloaded_weights(final version)/final-S5-model-weights-step-485500.pth\n",
      "Fetching animikghosh-huzhou-university/grokking_replica/final-S5-model-weights-step-490500:latest...\n"
     ]
    },
    {
     "name": "stderr",
     "output_type": "stream",
     "text": [
      "\u001b[34m\u001b[1mwandb\u001b[0m:   1 of 1 files downloaded.  \n"
     ]
    },
    {
     "name": "stdout",
     "output_type": "stream",
     "text": [
      "Downloaded and saved to S5_downloaded_weights(final version)/final-S5-model-weights-step-490500.pth\n",
      "Fetching animikghosh-huzhou-university/grokking_replica/final-S5-model-weights-step-495500:latest...\n"
     ]
    },
    {
     "name": "stderr",
     "output_type": "stream",
     "text": [
      "\u001b[34m\u001b[1mwandb\u001b[0m:   1 of 1 files downloaded.  \n"
     ]
    },
    {
     "name": "stdout",
     "output_type": "stream",
     "text": [
      "Downloaded and saved to S5_downloaded_weights(final version)/final-S5-model-weights-step-495500.pth\n",
      "All files saved to S5_downloaded_weights(final version)/\n"
     ]
    }
   ],
   "source": [
    "import os\n",
    "import wandb\n",
    "\n",
    "# Initialize the W&B API\n",
    "api = wandb.Api()\n",
    "\n",
    "# Define your project and artifact base name\n",
    "project_name = \"animikghosh-huzhou-university/grokking_replica\"\n",
    "artifact_base_name = \"final-S5-model-weights-step-\"\n",
    "artifact_type = \"model\"\n",
    "\n",
    "# Local folder where all downloaded files will be stored\n",
    "download_folder = \"S5_downloaded_weights(final version)\"\n",
    "os.makedirs(download_folder, exist_ok=True)\n",
    "\n",
    "# List of steps you want to download (adjust to match your saved checkpoints)\n",
    "steps = list(range(500,500000,5000))  # Adjust this to your actual saved steps\n",
    "\n",
    "# Download each artifact into the same folder\n",
    "for step in steps:\n",
    "    artifact_name = f\"{artifact_base_name}{step}\"  # e.g., model-weights-step-500\n",
    "    artifact_full_name = f\"{project_name}/{artifact_name}:latest\"\n",
    "\n",
    "    print(f\"Fetching {artifact_full_name}...\")\n",
    "    artifact = api.artifact(artifact_full_name)\n",
    "\n",
    "    # Download the artifact to a temp folder\n",
    "    artifact_dir = artifact.download()\n",
    "\n",
    "    # Find the actual .pth file in the downloaded folder\n",
    "    # (assuming you saved it like \"model_weights.pth\" inside each artifact)\n",
    "    pth_file_name = f\"final-S5-model_weights_step_{step}.pth\"\n",
    "    src_path = os.path.join(artifact_dir, pth_file_name)\n",
    "\n",
    "    # Rename and move to the combined folder\n",
    "    dest_path = os.path.join(download_folder, f\"{artifact_name}.pth\")\n",
    "    os.rename(src_path, dest_path)\n",
    "\n",
    "    print(f\"Downloaded and saved to {dest_path}\")\n",
    "\n",
    "print(f\"All files saved to {download_folder}/\")\n"
   ]
  },
  {
   "cell_type": "markdown",
   "id": "e8a34f2d-bc5e-4577-8d63-82caf1bdd1ce",
   "metadata": {},
   "source": [
    "**Extracting the weights from each .pth file and saving it in separate csv files**"
   ]
  },
  {
   "cell_type": "code",
   "execution_count": 4,
   "id": "4088aeea-1a6a-4a52-a59b-a0aa4eb1b4a8",
   "metadata": {},
   "outputs": [
    {
     "name": "stdout",
     "output_type": "stream",
     "text": [
      "Saved weights for final-S5-model-weights-step-460500.pth to S5_weight_csv(final version)/final-S5-model-weights-step-460500.csv\n",
      "Saved weights for final-S5-model-weights-step-50500.pth to S5_weight_csv(final version)/final-S5-model-weights-step-50500.csv\n",
      "Saved weights for final-S5-model-weights-step-240500.pth to S5_weight_csv(final version)/final-S5-model-weights-step-240500.csv\n",
      "Saved weights for final-S5-model-weights-step-340500.pth to S5_weight_csv(final version)/final-S5-model-weights-step-340500.csv\n",
      "Saved weights for final-S5-model-weights-step-215500.pth to S5_weight_csv(final version)/final-S5-model-weights-step-215500.csv\n",
      "Saved weights for final-S5-model-weights-step-315500.pth to S5_weight_csv(final version)/final-S5-model-weights-step-315500.csv\n",
      "Saved weights for final-S5-model-weights-step-435500.pth to S5_weight_csv(final version)/final-S5-model-weights-step-435500.csv\n",
      "Saved weights for final-S5-model-weights-step-175500.pth to S5_weight_csv(final version)/final-S5-model-weights-step-175500.csv\n",
      "Saved weights for final-S5-model-weights-step-120500.pth to S5_weight_csv(final version)/final-S5-model-weights-step-120500.csv\n",
      "Saved weights for final-S5-model-weights-step-95500.pth to S5_weight_csv(final version)/final-S5-model-weights-step-95500.csv\n",
      "Saved weights for final-S5-model-weights-step-385500.pth to S5_weight_csv(final version)/final-S5-model-weights-step-385500.csv\n",
      "Saved weights for final-S5-model-weights-step-285500.pth to S5_weight_csv(final version)/final-S5-model-weights-step-285500.csv\n",
      "Saved weights for final-S5-model-weights-step-165500.pth to S5_weight_csv(final version)/final-S5-model-weights-step-165500.csv\n",
      "Saved weights for final-S5-model-weights-step-85500.pth to S5_weight_csv(final version)/final-S5-model-weights-step-85500.csv\n",
      "Saved weights for final-S5-model-weights-step-130500.pth to S5_weight_csv(final version)/final-S5-model-weights-step-130500.csv\n",
      "Saved weights for final-S5-model-weights-step-295500.pth to S5_weight_csv(final version)/final-S5-model-weights-step-295500.csv\n",
      "Saved weights for final-S5-model-weights-step-395500.pth to S5_weight_csv(final version)/final-S5-model-weights-step-395500.csv\n",
      "Saved weights for final-S5-model-weights-step-470500.pth to S5_weight_csv(final version)/final-S5-model-weights-step-470500.csv\n",
      "Saved weights for final-S5-model-weights-step-500.pth to S5_weight_csv(final version)/final-S5-model-weights-step-500.csv\n",
      "Saved weights for final-S5-model-weights-step-40500.pth to S5_weight_csv(final version)/final-S5-model-weights-step-40500.csv\n",
      "Saved weights for final-S5-model-weights-step-350500.pth to S5_weight_csv(final version)/final-S5-model-weights-step-350500.csv\n",
      "Saved weights for final-S5-model-weights-step-250500.pth to S5_weight_csv(final version)/final-S5-model-weights-step-250500.csv\n",
      "Saved weights for final-S5-model-weights-step-305500.pth to S5_weight_csv(final version)/final-S5-model-weights-step-305500.csv\n",
      "Saved weights for final-S5-model-weights-step-205500.pth to S5_weight_csv(final version)/final-S5-model-weights-step-205500.csv\n",
      "Saved weights for final-S5-model-weights-step-15500.pth to S5_weight_csv(final version)/final-S5-model-weights-step-15500.csv\n",
      "Saved weights for final-S5-model-weights-step-425500.pth to S5_weight_csv(final version)/final-S5-model-weights-step-425500.csv\n",
      "Saved weights for final-S5-model-weights-step-145500.pth to S5_weight_csv(final version)/final-S5-model-weights-step-145500.csv\n",
      "Saved weights for final-S5-model-weights-step-495500.pth to S5_weight_csv(final version)/final-S5-model-weights-step-495500.csv\n",
      "Saved weights for final-S5-model-weights-step-110500.pth to S5_weight_csv(final version)/final-S5-model-weights-step-110500.csv\n",
      "Saved weights for final-S5-model-weights-step-270500.pth to S5_weight_csv(final version)/final-S5-model-weights-step-270500.csv\n",
      "Saved weights for final-S5-model-weights-step-370500.pth to S5_weight_csv(final version)/final-S5-model-weights-step-370500.csv\n",
      "Saved weights for final-S5-model-weights-step-60500.pth to S5_weight_csv(final version)/final-S5-model-weights-step-60500.csv\n",
      "Saved weights for final-S5-model-weights-step-450500.pth to S5_weight_csv(final version)/final-S5-model-weights-step-450500.csv\n",
      "Saved weights for final-S5-model-weights-step-405500.pth to S5_weight_csv(final version)/final-S5-model-weights-step-405500.csv\n",
      "Saved weights for final-S5-model-weights-step-35500.pth to S5_weight_csv(final version)/final-S5-model-weights-step-35500.csv\n",
      "Saved weights for final-S5-model-weights-step-180500.pth to S5_weight_csv(final version)/final-S5-model-weights-step-180500.csv\n",
      "Saved weights for final-S5-model-weights-step-225500.pth to S5_weight_csv(final version)/final-S5-model-weights-step-225500.csv\n",
      "Saved weights for final-S5-model-weights-step-325500.pth to S5_weight_csv(final version)/final-S5-model-weights-step-325500.csv\n",
      "Saved weights for final-S5-model-weights-step-360500.pth to S5_weight_csv(final version)/final-S5-model-weights-step-360500.csv\n",
      "Saved weights for final-S5-model-weights-step-260500.pth to S5_weight_csv(final version)/final-S5-model-weights-step-260500.csv\n",
      "Saved weights for final-S5-model-weights-step-70500.pth to S5_weight_csv(final version)/final-S5-model-weights-step-70500.csv\n",
      "Saved weights for final-S5-model-weights-step-440500.pth to S5_weight_csv(final version)/final-S5-model-weights-step-440500.csv\n",
      "Saved weights for final-S5-model-weights-step-190500.pth to S5_weight_csv(final version)/final-S5-model-weights-step-190500.csv\n",
      "Saved weights for final-S5-model-weights-step-415500.pth to S5_weight_csv(final version)/final-S5-model-weights-step-415500.csv\n",
      "Saved weights for final-S5-model-weights-step-25500.pth to S5_weight_csv(final version)/final-S5-model-weights-step-25500.csv\n",
      "Saved weights for final-S5-model-weights-step-335500.pth to S5_weight_csv(final version)/final-S5-model-weights-step-335500.csv\n",
      "Saved weights for final-S5-model-weights-step-235500.pth to S5_weight_csv(final version)/final-S5-model-weights-step-235500.csv\n",
      "Saved weights for final-S5-model-weights-step-155500.pth to S5_weight_csv(final version)/final-S5-model-weights-step-155500.csv\n",
      "Saved weights for final-S5-model-weights-step-100500.pth to S5_weight_csv(final version)/final-S5-model-weights-step-100500.csv\n",
      "Saved weights for final-S5-model-weights-step-485500.pth to S5_weight_csv(final version)/final-S5-model-weights-step-485500.csv\n",
      "Saved weights for final-S5-model-weights-step-150500.pth to S5_weight_csv(final version)/final-S5-model-weights-step-150500.csv\n",
      "Saved weights for final-S5-model-weights-step-480500.pth to S5_weight_csv(final version)/final-S5-model-weights-step-480500.csv\n",
      "Saved weights for final-S5-model-weights-step-105500.pth to S5_weight_csv(final version)/final-S5-model-weights-step-105500.csv\n",
      "Saved weights for final-S5-model-weights-step-75500.pth to S5_weight_csv(final version)/final-S5-model-weights-step-75500.csv\n",
      "Saved weights for final-S5-model-weights-step-445500.pth to S5_weight_csv(final version)/final-S5-model-weights-step-445500.csv\n",
      "Saved weights for final-S5-model-weights-step-265500.pth to S5_weight_csv(final version)/final-S5-model-weights-step-265500.csv\n",
      "Saved weights for final-S5-model-weights-step-365500.pth to S5_weight_csv(final version)/final-S5-model-weights-step-365500.csv\n",
      "Saved weights for final-S5-model-weights-step-230500.pth to S5_weight_csv(final version)/final-S5-model-weights-step-230500.csv\n",
      "Saved weights for final-S5-model-weights-step-330500.pth to S5_weight_csv(final version)/final-S5-model-weights-step-330500.csv\n",
      "Saved weights for final-S5-model-weights-step-410500.pth to S5_weight_csv(final version)/final-S5-model-weights-step-410500.csv\n",
      "Saved weights for final-S5-model-weights-step-20500.pth to S5_weight_csv(final version)/final-S5-model-weights-step-20500.csv\n",
      "Saved weights for final-S5-model-weights-step-195500.pth to S5_weight_csv(final version)/final-S5-model-weights-step-195500.csv\n",
      "Saved weights for final-S5-model-weights-step-65500.pth to S5_weight_csv(final version)/final-S5-model-weights-step-65500.csv\n",
      "Saved weights for final-S5-model-weights-step-455500.pth to S5_weight_csv(final version)/final-S5-model-weights-step-455500.csv\n",
      "Saved weights for final-S5-model-weights-step-5500.pth to S5_weight_csv(final version)/final-S5-model-weights-step-5500.csv\n",
      "Saved weights for final-S5-model-weights-step-375500.pth to S5_weight_csv(final version)/final-S5-model-weights-step-375500.csv\n",
      "Saved weights for final-S5-model-weights-step-275500.pth to S5_weight_csv(final version)/final-S5-model-weights-step-275500.csv\n",
      "Saved weights for final-S5-model-weights-step-320500.pth to S5_weight_csv(final version)/final-S5-model-weights-step-320500.csv\n",
      "Saved weights for final-S5-model-weights-step-220500.pth to S5_weight_csv(final version)/final-S5-model-weights-step-220500.csv\n",
      "Saved weights for final-S5-model-weights-step-185500.pth to S5_weight_csv(final version)/final-S5-model-weights-step-185500.csv\n",
      "Saved weights for final-S5-model-weights-step-400500.pth to S5_weight_csv(final version)/final-S5-model-weights-step-400500.csv\n",
      "Saved weights for final-S5-model-weights-step-30500.pth to S5_weight_csv(final version)/final-S5-model-weights-step-30500.csv\n",
      "Saved weights for final-S5-model-weights-step-140500.pth to S5_weight_csv(final version)/final-S5-model-weights-step-140500.csv\n",
      "Saved weights for final-S5-model-weights-step-115500.pth to S5_weight_csv(final version)/final-S5-model-weights-step-115500.csv\n",
      "Saved weights for final-S5-model-weights-step-490500.pth to S5_weight_csv(final version)/final-S5-model-weights-step-490500.csv\n",
      "Saved weights for final-S5-model-weights-step-255500.pth to S5_weight_csv(final version)/final-S5-model-weights-step-255500.csv\n",
      "Saved weights for final-S5-model-weights-step-355500.pth to S5_weight_csv(final version)/final-S5-model-weights-step-355500.csv\n",
      "Saved weights for final-S5-model-weights-step-475500.pth to S5_weight_csv(final version)/final-S5-model-weights-step-475500.csv\n",
      "Saved weights for final-S5-model-weights-step-45500.pth to S5_weight_csv(final version)/final-S5-model-weights-step-45500.csv\n",
      "Saved weights for final-S5-model-weights-step-10500.pth to S5_weight_csv(final version)/final-S5-model-weights-step-10500.csv\n",
      "Saved weights for final-S5-model-weights-step-420500.pth to S5_weight_csv(final version)/final-S5-model-weights-step-420500.csv\n",
      "Saved weights for final-S5-model-weights-step-200500.pth to S5_weight_csv(final version)/final-S5-model-weights-step-200500.csv\n",
      "Saved weights for final-S5-model-weights-step-300500.pth to S5_weight_csv(final version)/final-S5-model-weights-step-300500.csv\n",
      "Saved weights for final-S5-model-weights-step-160500.pth to S5_weight_csv(final version)/final-S5-model-weights-step-160500.csv\n",
      "Saved weights for final-S5-model-weights-step-390500.pth to S5_weight_csv(final version)/final-S5-model-weights-step-390500.csv\n",
      "Saved weights for final-S5-model-weights-step-290500.pth to S5_weight_csv(final version)/final-S5-model-weights-step-290500.csv\n",
      "Saved weights for final-S5-model-weights-step-135500.pth to S5_weight_csv(final version)/final-S5-model-weights-step-135500.csv\n",
      "Saved weights for final-S5-model-weights-step-80500.pth to S5_weight_csv(final version)/final-S5-model-weights-step-80500.csv\n",
      "Saved weights for final-S5-model-weights-step-170500.pth to S5_weight_csv(final version)/final-S5-model-weights-step-170500.csv\n",
      "Saved weights for final-S5-model-weights-step-280500.pth to S5_weight_csv(final version)/final-S5-model-weights-step-280500.csv\n",
      "Saved weights for final-S5-model-weights-step-380500.pth to S5_weight_csv(final version)/final-S5-model-weights-step-380500.csv\n",
      "Saved weights for final-S5-model-weights-step-90500.pth to S5_weight_csv(final version)/final-S5-model-weights-step-90500.csv\n",
      "Saved weights for final-S5-model-weights-step-125500.pth to S5_weight_csv(final version)/final-S5-model-weights-step-125500.csv\n",
      "Saved weights for final-S5-model-weights-step-345500.pth to S5_weight_csv(final version)/final-S5-model-weights-step-345500.csv\n",
      "Saved weights for final-S5-model-weights-step-245500.pth to S5_weight_csv(final version)/final-S5-model-weights-step-245500.csv\n",
      "Saved weights for final-S5-model-weights-step-465500.pth to S5_weight_csv(final version)/final-S5-model-weights-step-465500.csv\n",
      "Saved weights for final-S5-model-weights-step-55500.pth to S5_weight_csv(final version)/final-S5-model-weights-step-55500.csv\n",
      "Saved weights for final-S5-model-weights-step-430500.pth to S5_weight_csv(final version)/final-S5-model-weights-step-430500.csv\n",
      "Saved weights for final-S5-model-weights-step-310500.pth to S5_weight_csv(final version)/final-S5-model-weights-step-310500.csv\n",
      "Saved weights for final-S5-model-weights-step-210500.pth to S5_weight_csv(final version)/final-S5-model-weights-step-210500.csv\n",
      "All weight CSVs are saved in: /Users/animikghosh/grokking/scripts/S5_weight_csv(final version)\n"
     ]
    }
   ],
   "source": [
    "import os\n",
    "import torch\n",
    "import pandas as pd\n",
    "\n",
    "# Root directory where .pth files are located\n",
    "root_directory = '/Users/animikghosh/grokking/scripts/S5_downloaded_weights(final version)/'  # Adjust to your path\n",
    "\n",
    "# Folder where the CSV files will be saved\n",
    "output_folder = 'S5_weight_csv(final version)'\n",
    "os.makedirs(output_folder, exist_ok=True)  # Create the folder if it doesn't exist\n",
    "\n",
    "# Walk through all .pth files in the root directory\n",
    "for f in os.listdir(root_directory):\n",
    "    if f.endswith(\".pth\"):  # Check if the file is a .pth file\n",
    "        pth_file_path = os.path.join(root_directory, f)\n",
    "\n",
    "        # Load the state_dict (model weights)\n",
    "        state_dict = torch.load(pth_file_path)\n",
    "\n",
    "        # Collect all layer weights into a list of dictionaries\n",
    "        weights = []\n",
    "        for name, param in state_dict.items():\n",
    "            weights.append({\n",
    "                'Layer': name,\n",
    "                'Shape': str(param.shape),\n",
    "                'Weights': param.flatten().tolist()  # Convert tensor to flat list\n",
    "            })\n",
    "\n",
    "        # Convert to DataFrame\n",
    "        weights_df = pd.DataFrame(weights)\n",
    "\n",
    "        # Generate a name for the CSV file (e.g., weights_step_500.csv)\n",
    "        csv_filename = f\"{f.replace('.pth', '')}.csv\"  # Remove .pth extension to create .csv name\n",
    "        csv_path = os.path.join(output_folder, csv_filename)\n",
    "\n",
    "        # Save to CSV\n",
    "        weights_df.to_csv(csv_path, index=False)\n",
    "\n",
    "        print(f\"Saved weights for {f} to {csv_path}\")\n",
    "\n",
    "print(f\"All weight CSVs are saved in: {os.path.abspath(output_folder)}\")\n",
    "\n"
   ]
  },
  {
   "cell_type": "code",
   "execution_count": null,
   "id": "0993966a-f7f9-4b19-9480-4957bc2a46cb",
   "metadata": {},
   "outputs": [],
   "source": []
  }
 ],
 "metadata": {
  "kernelspec": {
   "display_name": "Python 3 (ipykernel)",
   "language": "python",
   "name": "python3"
  },
  "language_info": {
   "codemirror_mode": {
    "name": "ipython",
    "version": 3
   },
   "file_extension": ".py",
   "mimetype": "text/x-python",
   "name": "python",
   "nbconvert_exporter": "python",
   "pygments_lexer": "ipython3",
   "version": "3.8.20"
  }
 },
 "nbformat": 4,
 "nbformat_minor": 5
}
